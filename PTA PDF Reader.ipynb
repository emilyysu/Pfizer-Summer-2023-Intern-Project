{
 "cells": [
  {
   "cell_type": "code",
   "execution_count": 6,
   "metadata": {},
   "outputs": [
    {
     "name": "stderr",
     "output_type": "stream",
     "text": [
      "C:\\Anaconda3\\lib\\site-packages\\pandas\\compat\\_optional.py:138: UserWarning: Pandas requires version '2.7.0' or newer of 'numexpr' (version '2.6.9' currently installed).\n",
      "  warnings.warn(msg, UserWarning)\n"
     ]
    }
   ],
   "source": [
    "import pdfplumber\n",
    "import pandas as pd"
   ]
  },
  {
   "cell_type": "code",
   "execution_count": 7,
   "metadata": {},
   "outputs": [],
   "source": [
    "# Function to search for protocol ID and site num\n",
    "def search_keywords(lst):\n",
    "    keywords = ['Protocol ID:', 'Site Number:']\n",
    "    result = []\n",
    "    for item in lst:\n",
    "        if all(keyword in item for keyword in keywords):\n",
    "            result.append(item)\n",
    "    return result"
   ]
  },
  {
   "cell_type": "code",
   "execution_count": 8,
   "metadata": {},
   "outputs": [],
   "source": [
    "# Creates path to all PTA files (hard-coded, but need to automate into a script)\n",
    "# PTA 1-4 are all sites from the same protocol ID / study\n",
    "# PTA 5 has question split into two pages so need to write if/else statements for\n",
    "pta_file_path=[\n",
    "    \"C:/Users/SUE03/OneDrive - Pfizer/Desktop/PTA_Assignement/PTA1.pdf\",\n",
    "    \"C:/Users/SUE03/OneDrive - Pfizer/Desktop/PTA_Assignement/PTA2.pdf\",\n",
    "    \"C:/Users/SUE03/OneDrive - Pfizer/Desktop/PTA_Assignement/PTA3.pdf\",\n",
    "    \"C:/Users/SUE03/OneDrive - Pfizer/Desktop/PTA_Assignement/PTA4.pdf\"\n",
    "]"
   ]
  },
  {
   "cell_type": "code",
   "execution_count": 9,
   "metadata": {},
   "outputs": [],
   "source": [
    "# Creates initial pandas data frame\n",
    "pta_site_performance_df=pd.DataFrame()"
   ]
  },
  {
   "cell_type": "code",
   "execution_count": 10,
   "metadata": {},
   "outputs": [],
   "source": [
    "# Looks through all the designated PTA files\n",
    "for file_path in pta_file_path:\n",
    "    \n",
    "    pdf = pdfplumber.open(file_path)\n",
    "    \n",
    "    # Extract the Protocol Id and Site Number\n",
    "    text_list=pdf.pages[0].extract_text_simple().split(\"\\n\")\n",
    "    metadata=search_keywords(text_list) # Search for the element that contains the protocol id and site number\n",
    "    metadata_list=metadata[0].split()\n",
    "    protocol_id=metadata_list[2]\n",
    "    site_number=metadata_list[-1]\n",
    "    \n",
    "    # Look through all of the tables, only get the tables with title matching \"SITE PERFORMANCE AND RECRUITMENT\"\n",
    "    site_performance_tables=[]\n",
    "    for num in range(len(pdf.pages)):\n",
    "        page=pdf.pages[num]\n",
    "        tables=page.extract_tables() # get all of the tables within that page\n",
    "        for table_num in range(len(tables)): # get only the site perforance tables \n",
    "            if tables[table_num][0][0] == \"SITE PERFORMANCE AND RECRUITMENT\":\n",
    "                site_performance_tables.append(tables[table_num][1:]) # this gets rid of \"site recruitment...\" table title\n",
    "\n",
    "    # Comebine all site performance tables into one            \n",
    "    site_performance_table=[]\n",
    "    for i in range(len(site_performance_tables)):\n",
    "        table=site_performance_tables[i]\n",
    "        for j in range(len(table)):\n",
    "            row=table[j]\n",
    "            question=row[0]\n",
    "            answer=row[-1]\n",
    "            site_performance_table.append([question, answer])\n",
    "        \n",
    "    df=pd.DataFrame(site_performance_table)\n",
    "    df=df.T\n",
    "    df.columns=df.iloc[0]\n",
    "    df=df.tail(-1)\n",
    "    df.insert(loc=0, column='Protocol ID', value=[protocol_id])\n",
    "    df.insert(loc=1, column='Site Number', value=[site_number])\n",
    "    pta_site_performance_df=pta_site_performance_df.append(df, ignore_index=True)\n",
    "    pta_site_performance_df=pta_site_performance_df.drop(columns=pta_site_performance_df.columns[-1])\n",
    "    pdf.close()"
   ]
  },
  {
   "cell_type": "code",
   "execution_count": 11,
   "metadata": {},
   "outputs": [],
   "source": [
    "pta_columns=pta_site_performance_df.columns.tolist()[2:]"
   ]
  },
  {
   "cell_type": "code",
   "execution_count": 12,
   "metadata": {},
   "outputs": [
    {
     "data": {
      "text/plain": [
       "23"
      ]
     },
     "execution_count": 12,
     "metadata": {},
     "output_type": "execute_result"
    }
   ],
   "source": [
    "len(pta_columns)"
   ]
  },
  {
   "cell_type": "code",
   "execution_count": 13,
   "metadata": {},
   "outputs": [],
   "source": [
    "# Creating a default dictionary\n",
    "column_mapping = {\n",
    "    pta_columns[0]: 'Q1',\n",
    "    pta_columns[1]: 'Q2',\n",
    "    pta_columns[2]: 'Q3',\n",
    "    pta_columns[3]: 'Q4',\n",
    "    pta_columns[4]: 'Q5',\n",
    "    pta_columns[5]: 'Q6',\n",
    "    pta_columns[6]: 'Q7',\n",
    "    pta_columns[7]: 'Q8',\n",
    "    pta_columns[8]: 'Q9',\n",
    "    pta_columns[9]: 'Q10',\n",
    "    pta_columns[10]: 'Q11',\n",
    "    pta_columns[11]: 'Q12',\n",
    "    pta_columns[12]: 'Q13',\n",
    "    pta_columns[13]: 'Q14',\n",
    "    pta_columns[14]: 'Q15',\n",
    "    pta_columns[15]: 'Q16',\n",
    "    pta_columns[16]: 'Q17',\n",
    "    pta_columns[17]: 'Q18',\n",
    "    pta_columns[18]: 'Q19',\n",
    "    pta_columns[19]: 'Q20',\n",
    "    pta_columns[20]: 'Q21',\n",
    "    pta_columns[21]: 'Q22',\n",
    "    pta_columns[22]: 'Q23'\n",
    "}"
   ]
  },
  {
   "cell_type": "code",
   "execution_count": 233,
   "metadata": {},
   "outputs": [
    {
     "data": {
      "text/plain": [
       "{'Does the Investigator have access to suitable subjects that qualify based on study target\\npopulation?': 'Q1',\n",
       " 'Enter the estimated number of potential subjects:': 'Q2',\n",
       " 'Enter the number of clinical trials conducted by the principal Investigator that compete for\\nthe subject population:': 'Q3',\n",
       " 'Will the site require subject-facing materials in multiple languages?': 'Q4',\n",
       " 'If Yes, specify the languages needed for Informed Consent Translation:': 'Q5',\n",
       " 'Can the site complete required regulatory documents and negotiate their study budget and\\ncontract in parallel?': 'Q6',\n",
       " 'If No, please describe the order for completing regulatory documents and contract\\nnegotiation': 'Q7',\n",
       " 'What is the median cycle time from receipt of Investigator Initiation Package documents to\\nsite initiation?': 'Q8',\n",
       " 'How many clinical trials are being conducted by the Investigator and held at the site at the\\ntime of this assessment?': 'Q9',\n",
       " 'How many are Pfizer clinical trials?': 'Q10',\n",
       " 'How many are non-Pfizer clinical trials?': 'Q11',\n",
       " 'What is the duration of these non-Pfizer clinical trials?': 'Q12',\n",
       " 'How many subjects have been enrolled in the last three years in the therapeutic area\\nunder study?': 'Q13',\n",
       " 'Number of subjects treated at the site for relevant condition?': 'Q14',\n",
       " 'How many clinical trials will be competing for the same subject population?': 'Q15',\n",
       " 'Which of the following will be involved in the conduct of the clinical trial?': 'Q16',\n",
       " 'If Site Management Organizations(SMO), provide the assessment (adequacy of\\ncontinuity/contingency plans) of the SMO based on the details provided in the SMO\\nAssessment': 'Q17',\n",
       " 'Were protocol content, study design, objectives, and timelines discussed/assessed?': 'Q18',\n",
       " 'Were procedures for protocol amendments discussed/assessed?': 'Q19',\n",
       " 'Were recruitment goals and timelines, early closure and termination discussed/assessed?': 'Q20',\n",
       " 'Were subject recruitment and retention strategies discussed/assessed?': 'Q21',\n",
       " 'Describe strategies for meeting the recruitment and retention goals:': 'Q22',\n",
       " 'Comments': 'Q23'}"
      ]
     },
     "execution_count": 233,
     "metadata": {},
     "output_type": "execute_result"
    }
   ],
   "source": [
    "column_mapping"
   ]
  },
  {
   "cell_type": "code",
   "execution_count": 14,
   "metadata": {},
   "outputs": [],
   "source": [
    "pta_site_performance_df = pta_site_performance_df.rename(columns=column_mapping)"
   ]
  },
  {
   "cell_type": "code",
   "execution_count": 15,
   "metadata": {},
   "outputs": [
    {
     "data": {
      "text/html": [
       "<div>\n",
       "<style scoped>\n",
       "    .dataframe tbody tr th:only-of-type {\n",
       "        vertical-align: middle;\n",
       "    }\n",
       "\n",
       "    .dataframe tbody tr th {\n",
       "        vertical-align: top;\n",
       "    }\n",
       "\n",
       "    .dataframe thead th {\n",
       "        text-align: right;\n",
       "    }\n",
       "</style>\n",
       "<table border=\"1\" class=\"dataframe\">\n",
       "  <thead>\n",
       "    <tr style=\"text-align: right;\">\n",
       "      <th></th>\n",
       "      <th>Protocol ID</th>\n",
       "      <th>Site Number</th>\n",
       "      <th>Q1</th>\n",
       "      <th>Q2</th>\n",
       "      <th>Q3</th>\n",
       "      <th>Q4</th>\n",
       "      <th>Q5</th>\n",
       "      <th>Q6</th>\n",
       "      <th>Q7</th>\n",
       "      <th>Q8</th>\n",
       "      <th>...</th>\n",
       "      <th>Q14</th>\n",
       "      <th>Q15</th>\n",
       "      <th>Q16</th>\n",
       "      <th>Q17</th>\n",
       "      <th>Q18</th>\n",
       "      <th>Q19</th>\n",
       "      <th>Q20</th>\n",
       "      <th>Q21</th>\n",
       "      <th>Q22</th>\n",
       "      <th>Q23</th>\n",
       "    </tr>\n",
       "  </thead>\n",
       "  <tbody>\n",
       "    <tr>\n",
       "      <th>0</th>\n",
       "      <td>C4601003</td>\n",
       "      <td>1008</td>\n",
       "      <td>Yes</td>\n",
       "      <td>150</td>\n",
       "      <td>0</td>\n",
       "      <td>No</td>\n",
       "      <td>N/A</td>\n",
       "      <td>Yes</td>\n",
       "      <td>N/A</td>\n",
       "      <td>1-2 Weeks</td>\n",
       "      <td>...</td>\n",
       "      <td>Greater than 100</td>\n",
       "      <td>0</td>\n",
       "      <td>None of the Above</td>\n",
       "      <td>N/A</td>\n",
       "      <td>Yes</td>\n",
       "      <td>Yes</td>\n",
       "      <td>Yes</td>\n",
       "      <td>Yes</td>\n",
       "      <td>PI indicated they can enroll 150 -\\n200 patien...</td>\n",
       "      <td>None</td>\n",
       "    </tr>\n",
       "    <tr>\n",
       "      <th>1</th>\n",
       "      <td>C4601003</td>\n",
       "      <td>1030</td>\n",
       "      <td>Yes</td>\n",
       "      <td>250</td>\n",
       "      <td>0</td>\n",
       "      <td>No</td>\n",
       "      <td>N/A</td>\n",
       "      <td>Yes</td>\n",
       "      <td>N/A</td>\n",
       "      <td>1-2 Weeks</td>\n",
       "      <td>...</td>\n",
       "      <td>Greater than 100</td>\n",
       "      <td>0</td>\n",
       "      <td>None of the Above</td>\n",
       "      <td>N/A</td>\n",
       "      <td>Yes</td>\n",
       "      <td>Yes</td>\n",
       "      <td>Yes</td>\n",
       "      <td>Yes</td>\n",
       "      <td>PI informed they can enroll\\nbetween 250-300 s...</td>\n",
       "      <td>CRA discussed the C4601003 Phase 3 Protocol Sy...</td>\n",
       "    </tr>\n",
       "    <tr>\n",
       "      <th>2</th>\n",
       "      <td>C4601003</td>\n",
       "      <td>1079</td>\n",
       "      <td>Yes</td>\n",
       "      <td>500</td>\n",
       "      <td>0</td>\n",
       "      <td>No</td>\n",
       "      <td>N/A</td>\n",
       "      <td>Yes</td>\n",
       "      <td>N/A</td>\n",
       "      <td>8-12 weeks</td>\n",
       "      <td>...</td>\n",
       "      <td>Greater than 100</td>\n",
       "      <td>0</td>\n",
       "      <td>None of the Above</td>\n",
       "      <td>N/A</td>\n",
       "      <td>Yes</td>\n",
       "      <td>Yes</td>\n",
       "      <td>Yes</td>\n",
       "      <td>Yes</td>\n",
       "      <td>PI would like to bring on additional\\nSIs for ...</td>\n",
       "      <td>None</td>\n",
       "    </tr>\n",
       "    <tr>\n",
       "      <th>3</th>\n",
       "      <td>C4601003</td>\n",
       "      <td>1044</td>\n",
       "      <td>Yes</td>\n",
       "      <td>250</td>\n",
       "      <td>0</td>\n",
       "      <td>No</td>\n",
       "      <td>N/A</td>\n",
       "      <td>Yes</td>\n",
       "      <td>N/A</td>\n",
       "      <td>2 weeks</td>\n",
       "      <td>...</td>\n",
       "      <td>0</td>\n",
       "      <td>0</td>\n",
       "      <td>None of the Above</td>\n",
       "      <td>N/A</td>\n",
       "      <td>Yes</td>\n",
       "      <td>Yes</td>\n",
       "      <td>Yes</td>\n",
       "      <td>Yes</td>\n",
       "      <td>Synexus marketing department is\\ninvolved and ...</td>\n",
       "      <td></td>\n",
       "    </tr>\n",
       "  </tbody>\n",
       "</table>\n",
       "<p>4 rows × 25 columns</p>\n",
       "</div>"
      ],
      "text/plain": [
       "0 Protocol ID Site Number   Q1   Q2 Q3  Q4   Q5   Q6   Q7          Q8  ...  \\\n",
       "0    C4601003        1008  Yes  150  0  No  N/A  Yes  N/A   1-2 Weeks  ...   \n",
       "1    C4601003        1030  Yes  250  0  No  N/A  Yes  N/A   1-2 Weeks  ...   \n",
       "2    C4601003        1079  Yes  500  0  No  N/A  Yes  N/A  8-12 weeks  ...   \n",
       "3    C4601003        1044  Yes  250  0  No  N/A  Yes  N/A     2 weeks  ...   \n",
       "\n",
       "0               Q14 Q15                Q16  Q17  Q18  Q19  Q20  Q21  \\\n",
       "0  Greater than 100   0  None of the Above  N/A  Yes  Yes  Yes  Yes   \n",
       "1  Greater than 100   0  None of the Above  N/A  Yes  Yes  Yes  Yes   \n",
       "2  Greater than 100   0  None of the Above  N/A  Yes  Yes  Yes  Yes   \n",
       "3                 0   0  None of the Above  N/A  Yes  Yes  Yes  Yes   \n",
       "\n",
       "0                                                Q22  \\\n",
       "0  PI indicated they can enroll 150 -\\n200 patien...   \n",
       "1  PI informed they can enroll\\nbetween 250-300 s...   \n",
       "2  PI would like to bring on additional\\nSIs for ...   \n",
       "3  Synexus marketing department is\\ninvolved and ...   \n",
       "\n",
       "0                                                Q23  \n",
       "0                                               None  \n",
       "1  CRA discussed the C4601003 Phase 3 Protocol Sy...  \n",
       "2                                               None  \n",
       "3                                                     \n",
       "\n",
       "[4 rows x 25 columns]"
      ]
     },
     "execution_count": 15,
     "metadata": {},
     "output_type": "execute_result"
    }
   ],
   "source": [
    "pta_site_performance_df"
   ]
  },
  {
   "cell_type": "code",
   "execution_count": null,
   "metadata": {},
   "outputs": [],
   "source": []
  }
 ],
 "metadata": {
  "kernelspec": {
   "display_name": "Python 3",
   "language": "python",
   "name": "python3"
  },
  "language_info": {
   "codemirror_mode": {
    "name": "ipython",
    "version": 3
   },
   "file_extension": ".py",
   "mimetype": "text/x-python",
   "name": "python",
   "nbconvert_exporter": "python",
   "pygments_lexer": "ipython3",
   "version": "3.7.3"
  }
 },
 "nbformat": 4,
 "nbformat_minor": 5
}
